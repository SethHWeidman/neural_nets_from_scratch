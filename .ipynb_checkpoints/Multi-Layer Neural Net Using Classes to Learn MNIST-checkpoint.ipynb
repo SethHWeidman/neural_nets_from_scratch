{
 "cells": [
  {
   "cell_type": "markdown",
   "metadata": {},
   "source": [
    "# Neural Nets, from Scratch, Solving a Classic Image Recognition Problem"
   ]
  },
  {
   "cell_type": "code",
   "execution_count": 1,
   "metadata": {
    "collapsed": true
   },
   "outputs": [],
   "source": [
    "import matplotlib.pyplot as plt\n",
    "import numpy as np\n",
    "from sklearn.model_selection import train_test_split"
   ]
  },
  {
   "cell_type": "code",
   "execution_count": 2,
   "metadata": {
    "collapsed": true
   },
   "outputs": [],
   "source": [
    "from sklearn.datasets import fetch_mldata\n",
    "import numpy as np\n",
    "mnist = fetch_mldata('MNIST original')"
   ]
  },
  {
   "cell_type": "code",
   "execution_count": 15,
   "metadata": {
    "collapsed": true
   },
   "outputs": [],
   "source": [
    "def get_mnist_X_Y():\n",
    "    mnist = fetch_mldata('MNIST original')\n",
    "    data = mnist.data\n",
    "    X = (data - data.min()) * 1.0 / (data.max() - data.min())\n",
    "    target = mnist.target\n",
    "    Y = np.zeros((len(target), 10))\n",
    "    for i in range(len(target)):\n",
    "        Y[i][int(target[i])] = 1 \n",
    "    return X, Y"
   ]
  },
  {
   "cell_type": "code",
   "execution_count": 4,
   "metadata": {
    "collapsed": true
   },
   "outputs": [],
   "source": [
    "X, Y = get_mnist_X_Y(mnist)\n",
    "X_train, X_test, y_train, y_test = train_test_split(\n",
    "    X, Y, test_size=0.33, random_state=42)"
   ]
  },
  {
   "cell_type": "code",
   "execution_count": 5,
   "metadata": {
    "collapsed": true
   },
   "outputs": [],
   "source": [
    "def visualize_image(index):\n",
    "    target = mnist.target\n",
    "    print \"Label: %s\" % int(target[index])\n",
    "    plt.imshow(1.0 - X[index].reshape(28,28), cmap='gray')\n",
    "    plt.show()"
   ]
  },
  {
   "cell_type": "code",
   "execution_count": 6,
   "metadata": {},
   "outputs": [
    {
     "data": {
      "text/plain": [
       "(46900, 784)"
      ]
     },
     "execution_count": 6,
     "metadata": {},
     "output_type": "execute_result"
    }
   ],
   "source": [
    "X_train.shape"
   ]
  },
  {
   "cell_type": "code",
   "execution_count": 7,
   "metadata": {},
   "outputs": [
    {
     "name": "stdout",
     "output_type": "stream",
     "text": [
      "Label: 0\n"
     ]
    },
    {
     "data": {
      "image/png": "[encoded data removed]",
      "text/plain": [
       "<matplotlib.figure.Figure at 0x106411e50>"
      ]
     },
     "metadata": {},
     "output_type": "display_data"
    }
   ],
   "source": [
    "visualize_image(0)"
   ]
  },
  {
   "cell_type": "code",
   "execution_count": 8,
   "metadata": {
    "collapsed": true
   },
   "outputs": [],
   "source": [
    "def learn(X, Y):\n",
    "    np.random.seed(2)\n",
    "    V = np.random.randn(784, 30)\n",
    "    W = np.random.randn(30, 10)\n",
    "    for j in range(150000):\n",
    "        i = np.random.randint(0,46900)\n",
    "        x = np.array(X[i], ndmin=2)\n",
    "        y = np.array(Y[i], ndmin=2)\n",
    "        A = np.dot(x,V)\n",
    "        B = sigmoid(A)\n",
    "        C = np.dot(B,W)\n",
    "        P = sigmoid(C)\n",
    "        sum_P = np.sum(P)\n",
    "        L = 0.5 * (y - P) ** 2\n",
    "        dLdP = -1.0 * (y-P)\n",
    "        dPdC = sigmoid(C) * (1-sigmoid(C))\n",
    "        dLdC = dLdP * dPdC\n",
    "        dCdW = B.T\n",
    "        dLdW = np.dot(dCdW, dLdC)\n",
    "        dCdB = W.T\n",
    "        dLdB = np.dot(dLdC, dCdB)\n",
    "        dBdA = sigmoid(A) * (1-sigmoid(A))\n",
    "        dLdA = dLdB * dBdA\n",
    "        dAdV = x.T\n",
    "        dLdV = np.dot(dAdV, dLdA)\n",
    "        W -= dLdW\n",
    "        V -= dLdV\n",
    "    return V, W\n",
    "        \n",
    "def predict(X_new, V, W):\n",
    "    A = np.dot(X_new,V)\n",
    "    B = sigmoid(A)\n",
    "    C = np.dot(B,W)\n",
    "    P = sigmoid(C)\n",
    "    return P\n",
    "\n",
    "def sigmoid(x, bprop=False):\n",
    "    if bprop:\n",
    "        s = sigmoid(x)\n",
    "        return s*(1-s)\n",
    "    else:\n",
    "        return 1.0/(1.0+np.exp(-x))"
   ]
  },
  {
   "cell_type": "code",
   "execution_count": 9,
   "metadata": {
    "collapsed": true
   },
   "outputs": [],
   "source": [
    "V, W = learn(X_train, y_train)\n",
    "P = predict(X_test, V, W)"
   ]
  },
  {
   "cell_type": "code",
   "execution_count": 10,
   "metadata": {
    "collapsed": true
   },
   "outputs": [],
   "source": [
    "np.set_printoptions(suppress=True, precision=5)\n",
    "def check_image_index(preds, index):\n",
    "    print(P[index])\n",
    "    visualize_image(index)"
   ]
  },
  {
   "cell_type": "code",
   "execution_count": 11,
   "metadata": {},
   "outputs": [
    {
     "name": "stdout",
     "output_type": "stream",
     "text": [
      "[ 0.00005  0.       0.       0.       0.       0.       0.       0.99999\n",
      "  0.       0.     ]\n",
      "Label: 0\n"
     ]
    },
    {
     "data": {
      "image/png": "[encoded data removed]",
      "text/plain": [
       "<matplotlib.figure.Figure at 0x10d7fb190>"
      ]
     },
     "metadata": {},
     "output_type": "display_data"
    }
   ],
   "source": [
    "index = 0\n",
    "check_image_index(P, index)"
   ]
  },
  {
   "cell_type": "code",
   "execution_count": 12,
   "metadata": {
    "collapsed": true
   },
   "outputs": [],
   "source": [
    "preds = [np.argmax(x) for x in P]\n",
    "actuals = [np.argmax(x) for x in y_test]"
   ]
  },
  {
   "cell_type": "code",
   "execution_count": 13,
   "metadata": {},
   "outputs": [
    {
     "data": {
      "text/plain": [
       "0.9174458874458874"
      ]
     },
     "execution_count": 13,
     "metadata": {},
     "output_type": "execute_result"
    }
   ],
   "source": [
    "sum(np.array(preds) == np.array(actuals)) * 1.0 / len(preds)"
   ]
  },
  {
   "cell_type": "markdown",
   "metadata": {},
   "source": [
    "91.7% accuracy!"
   ]
  },
  {
   "cell_type": "markdown",
   "metadata": {},
   "source": [
    "# Neural Nets, from Scratch, Using Classes, Solving a Classic Image Recognition Problem"
   ]
  },
  {
   "cell_type": "markdown",
   "metadata": {},
   "source": [
    "This notebook contains code to build and train a neural net, from scratch, to solve the famous [MNIST](http://yann.lecun.com/exdb/mnist/) digit recognition problem. It uses Python classes, making the code flexible and easy to build nets of arbitrary depth.\n",
    "\n",
    "Running the cells will result in a neural net that can predict MNIST digits with 91% accuracy."
   ]
  },
  {
   "cell_type": "code",
   "execution_count": 14,
   "metadata": {
    "collapsed": true
   },
   "outputs": [],
   "source": [
    "class NeuralNetwork:\n",
    "    def __init__(self, layers):\n",
    "        self.layers = layers\n",
    "    \n",
    "    def forwardpass(self, X):\n",
    "        \"\"\" Calculate an output Y for the given input X. \"\"\"\n",
    "        X_next = X\n",
    "        for layer in self.layers:\n",
    "            X_next = layer.fprop(X_next)\n",
    "        prediction = X_next\n",
    "        return prediction\n",
    "    \n",
    "    def loss(self, prediction, Y):\n",
    "        \"\"\" Calculate error on the given data. \"\"\"\n",
    "        loss = 0.5 * (Y - prediction) ** 2\n",
    "        return -1.0 * (Y - prediction)\n",
    "    \n",
    "    def backpropogate(self, loss):\n",
    "        \"\"\" Calculate an output Y for the given input X. \"\"\"\n",
    "        loss_next = loss\n",
    "        for layer in reversed(self.layers):\n",
    "            loss_next = layer.bprop(loss_next)\n",
    "        return loss\n",
    "    \n",
    "class Layer(object):\n",
    "    def _setup(self, input_shape, rng):\n",
    "        \"\"\" Setup layer with parameters that are unknown at __init__(). \"\"\"\n",
    "        pass\n",
    "\n",
    "    def fprop(self, input):\n",
    "        \"\"\" Calculate layer output for given input (forward propagation). \"\"\"\n",
    "        raise NotImplementedError()\n",
    "\n",
    "    def bprop(self, output_grad):\n",
    "        \"\"\" Calculate input gradient. \"\"\"\n",
    "        raise NotImplementedError()\n",
    "        \n",
    "def sigmoid(x, bprop=False):\n",
    "    if bprop:\n",
    "        s = sigmoid(x)\n",
    "        return s*(1-s)\n",
    "    else:\n",
    "        return 1.0/(1.0+np.exp(-x))\n",
    "\n",
    "        \n",
    "class Linear(Layer):\n",
    "    def __init__(self, n_in, n_out, activation_function):\n",
    "        self.W = np.random.normal(loc=0.0, scale=1, size=(n_in, n_out))\n",
    "        self.activation_function = activation_function\n",
    "        \n",
    "    def fprop(self, layer_input):\n",
    "        self.layer_input = layer_input\n",
    "        self.activation_input = np.dot(layer_input, self.W)\n",
    "        return self.activation_function(self.activation_input, bprop=False)\n",
    "\n",
    "    def bprop(self, layer_grad):\n",
    "        dPdAi = self.activation_function(self.activation_input, bprop=True)\n",
    "        dLdAi = layer_grad * dPdAi\n",
    "        dAodAi = self.layer_input.T\n",
    "        W_new = self.W - np.dot(dAodAi, dLdAi)\n",
    "        output_grad = np.dot(dLdAi, self.W.T)\n",
    "        self.W = W_new      \n",
    "        return output_grad"
   ]
  },
  {
   "cell_type": "code",
   "execution_count": 77,
   "metadata": {
    "collapsed": true
   },
   "outputs": [],
   "source": [
    "nn_mnist = NeuralNetwork(\n",
    "    layers=[\n",
    "        Linear(n_in=784,\n",
    "               n_out=50,\n",
    "               activation_function=sigmoid),\n",
    "        Linear(n_in=0,\n",
    "               n_out=10,\n",
    "               activation_function=sigmoid)\n",
    "        ]\n",
    "    )"
   ]
  },
  {
   "cell_type": "code",
   "execution_count": 78,
   "metadata": {
    "collapsed": true
   },
   "outputs": [],
   "source": [
    "def learn_neural_net(net, x, y):\n",
    "    pred = net.forwardpass(x)\n",
    "    loss = net.loss(pred, y)\n",
    "    net.backpropogate(loss)\n",
    "    return pred"
   ]
  },
  {
   "cell_type": "code",
   "execution_count": 73,
   "metadata": {
    "collapsed": true
   },
   "outputs": [],
   "source": [
    "for j in range(70000):\n",
    "    i = np.random.randint(0,46900)\n",
    "    x = np.array(X_train[i], ndmin=2)\n",
    "    y = np.array(y_train[i], ndmin=2)\n",
    "    learn_neural_net(nn_mnist, x, y)"
   ]
  },
  {
   "cell_type": "code",
   "execution_count": 74,
   "metadata": {
    "collapsed": true
   },
   "outputs": [],
   "source": [
    "P = nn_mnist.forwardpass(X_test)"
   ]
  },
  {
   "cell_type": "code",
   "execution_count": 75,
   "metadata": {
    "collapsed": true
   },
   "outputs": [],
   "source": [
    "preds = [np.argmax(x) for x in P]\n",
    "actuals = [np.argmax(x) for x in y_test]"
   ]
  },
  {
   "cell_type": "code",
   "execution_count": 76,
   "metadata": {},
   "outputs": [
    {
     "data": {
      "text/plain": [
       "0.925974025974026"
      ]
     },
     "execution_count": 76,
     "metadata": {},
     "output_type": "execute_result"
    }
   ],
   "source": [
    "accuracy = sum(np.array(preds) == np.array(actuals)) * 1.0 / len(preds)"
   ]
  },
  {
   "cell_type": "markdown",
   "metadata": {},
   "source": [
    "91% accuracy!"
   ]
  },
  {
   "cell_type": "markdown",
   "metadata": {},
   "source": [
    "# Testing optimal number of hidden neurons"
   ]
  },
  {
   "cell_type": "markdown",
   "metadata": {},
   "source": [
    "This illustrates how having a custom neural net framework can make it easy to run experiments."
   ]
  },
  {
   "cell_type": "code",
   "execution_count": 88,
   "metadata": {
    "collapsed": true
   },
   "outputs": [],
   "source": [
    "def accuracy_from_neurons(neurons):\n",
    "    print(\"Training and testing for number of hidden neurons: %s\" % neurons)\n",
    "        \n",
    "    nn_mnist = NeuralNetwork(\n",
    "    layers=[\n",
    "        Linear(n_in=784,\n",
    "               n_out=neurons,\n",
    "               activation_function=sigmoid),\n",
    "        Linear(n_in=neurons,\n",
    "               n_out=10,\n",
    "               activation_function=sigmoid)\n",
    "        ]\n",
    "    )\n",
    "    for j in range(100000):\n",
    "        i = np.random.randint(0,46900)\n",
    "        x = np.array(X_train[i], ndmin=2)\n",
    "        y = np.array(y_train[i], ndmin=2)\n",
    "        learn_neural_net(nn_mnist, x, y)\n",
    "\n",
    "    P = nn_mnist.forwardpass(X_test)\n",
    "    preds = [np.argmax(x) for x in P]\n",
    "    actuals = [np.argmax(x) for x in y_test]\n",
    "    accuracy = sum(np.array(preds) == np.array(actuals)) * 1.0 / len(preds)\n",
    "    accuracy = round(accuracy, 3)\n",
    "    print(\"Accuracy for number of neurons {0} is {1}\".format(neurons, accuracy))\n",
    "\n",
    "    return accuracy"
   ]
  },
  {
   "cell_type": "code",
   "execution_count": 89,
   "metadata": {},
   "outputs": [
    {
     "name": "stdout",
     "output_type": "stream",
     "text": [
      "Training and testing for number of hidden neurons: 20\n",
      "Accuracy for number of neurons 20 is 0.911\n",
      "Training and testing for number of hidden neurons: 30\n",
      "Accuracy for number of neurons 30 is 0.91\n",
      "Training and testing for number of hidden neurons: 40\n",
      "Accuracy for number of neurons 40 is 0.823\n",
      "Training and testing for number of hidden neurons: 50\n",
      "Accuracy for number of neurons 50 is 0.926\n",
      "Training and testing for number of hidden neurons: 60\n",
      "Accuracy for number of neurons 60 is 0.926\n",
      "Training and testing for number of hidden neurons: 70\n",
      "Accuracy for number of neurons 70 is 0.853\n",
      "Training and testing for number of hidden neurons: 80\n",
      "Accuracy for number of neurons 80 is 0.647\n",
      "Training and testing for number of hidden neurons: 90\n",
      "Accuracy for number of neurons 90 is 0.921\n",
      "Training and testing for number of hidden neurons: 100\n",
      "Accuracy for number of neurons 100 is 0.709\n",
      "Training and testing for number of hidden neurons: 110\n",
      "Accuracy for number of neurons 110 is 0.83\n",
      "Training and testing for number of hidden neurons: 120\n",
      "Accuracy for number of neurons 120 is 0.635\n",
      "Training and testing for number of hidden neurons: 130\n",
      "Accuracy for number of neurons 130 is 0.508\n",
      "Training and testing for number of hidden neurons: 140\n",
      "Accuracy for number of neurons 140 is 0.492\n",
      "Training and testing for number of hidden neurons: 150\n",
      "Accuracy for number of neurons 150 is 0.757\n",
      "Training and testing for number of hidden neurons: 160\n",
      "Accuracy for number of neurons 160 is 0.538\n",
      "Training and testing for number of hidden neurons: 170\n",
      "Accuracy for number of neurons 170 is 0.446\n",
      "Training and testing for number of hidden neurons: 180\n",
      "Accuracy for number of neurons 180 is 0.532\n",
      "Training and testing for number of hidden neurons: 190\n",
      "Accuracy for number of neurons 190 is 0.574\n",
      "Training and testing for number of hidden neurons: 200\n",
      "Accuracy for number of neurons 200 is 0.456\n",
      "Training and testing for number of hidden neurons: 210\n",
      "Accuracy for number of neurons 210 is 0.485\n",
      "Training and testing for number of hidden neurons: 220\n",
      "Accuracy for number of neurons 220 is 0.552\n",
      "Training and testing for number of hidden neurons: 230\n",
      "Accuracy for number of neurons 230 is 0.557\n",
      "Training and testing for number of hidden neurons: 240\n",
      "Accuracy for number of neurons 240 is 0.531\n"
     ]
    }
   ],
   "source": [
    "neuron_values = np.arange(20, 250, 10)\n",
    "accuracies = [accuracy_from_neurons(z) for z in neuron_values]"
   ]
  },
  {
   "cell_type": "markdown",
   "metadata": {},
   "source": [
    "## Plotting"
   ]
  },
  {
   "cell_type": "code",
   "execution_count": 94,
   "metadata": {},
   "outputs": [
    {
     "data": {
      "text/plain": [
       "<matplotlib.text.Text at 0x1164288d0>"
      ]
     },
     "execution_count": 94,
     "metadata": {},
     "output_type": "execute_result"
    },
    {
     "data": {
      "image/png": "[encoded data removed]",
      "text/plain": [
       "<matplotlib.figure.Figure at 0x13a3e91d0>"
      ]
     },
     "metadata": {},
     "output_type": "display_data"
    }
   ],
   "source": [
    "import seaborn as sns\n",
    "%matplotlib inline\n",
    "plt.plot(neuron_values, accuracies)\n",
    "plt.xlabel(\"Number of neurons in hidden layer\")\n",
    "plt.ylabel(\"Accuracy of MNIST classification\")\n",
    "plt.title('''Accuracy of classification as a function \\n\n",
    "    of the number of neurons in the hidden layer''')"
   ]
  },
  {
   "cell_type": "code",
   "execution_count": null,
   "metadata": {
    "collapsed": true
   },
   "outputs": [],
   "source": []
  }
 ],
 "metadata": {
  "kernelspec": {
   "display_name": "Python 2",
   "language": "python",
   "name": "python2"
  },
  "language_info": {
   "codemirror_mode": {
    "name": "ipython",
    "version": 2
   },
   "file_extension": ".py",
   "mimetype": "text/x-python",
   "name": "python",
   "nbconvert_exporter": "python",
   "pygments_lexer": "ipython2",
   "version": "2.7.12"
  },
  "toc": {
   "colors": {
    "hover_highlight": "#DAA520",
    "running_highlight": "#FF0000",
    "selected_highlight": "#FFD700"
   },
   "moveMenuLeft": true,
   "nav_menu": {
    "height": "66px",
    "width": "252px"
   },
   "navigate_menu": true,
   "number_sections": true,
   "sideBar": true,
   "threshold": 4,
   "toc_cell": false,
   "toc_section_display": "block",
   "toc_window_display": true,
   "widenNotebook": false
  }
 },
 "nbformat": 4,
 "nbformat_minor": 2
}
