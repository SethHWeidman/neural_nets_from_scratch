{
 "cells": [
  {
   "cell_type": "markdown",
   "metadata": {},
   "source": [
    "# Introduction"
   ]
  },
  {
   "cell_type": "code",
   "execution_count": 1,
   "metadata": {},
   "outputs": [],
   "source": [
    "# TODO"
   ]
  },
  {
   "cell_type": "markdown",
   "metadata": {},
   "source": [
    "# Imports"
   ]
  },
  {
   "cell_type": "code",
   "execution_count": 2,
   "metadata": {
    "collapsed": true
   },
   "outputs": [],
   "source": [
    "import numpy as np\n",
    "from neural_net import (NeuralNetwork, \n",
    "                        Layer, \n",
    "                        Linear)\n",
    "from helpers import sigmoid\n",
    "from helpers import get_mnist_X_Y"
   ]
  },
  {
   "cell_type": "markdown",
   "metadata": {},
   "source": [
    "Neural nets here are defined as a series of layers, each of which gets values from a prior layer and then feeds that information through an activation function into the next layer."
   ]
  },
  {
   "cell_type": "markdown",
   "metadata": {},
   "source": [
    "# Baseline neural net"
   ]
  },
  {
   "cell_type": "code",
   "execution_count": 3,
   "metadata": {},
   "outputs": [],
   "source": [
    "X, Y = get_mnist_X_Y()\n",
    "X_train, X_test, y_train, y_test = train_test_split(\n",
    "    X, Y, test_size=0.33, random_state=42)\n",
    "\n",
    "nn_mnist = NeuralNetwork(\n",
    "    layers=[\n",
    "        Linear(n_in=784,\n",
    "               n_out=50,\n",
    "               activation_function=sigmoid),\n",
    "        Linear(n_in=50,\n",
    "               n_out=10,\n",
    "               activation_function=sigmoid)\n",
    "        ]\n",
    "    )"
   ]
  },
  {
   "cell_type": "markdown",
   "metadata": {},
   "source": [
    "## Helper"
   ]
  },
  {
   "cell_type": "code",
   "execution_count": 8,
   "metadata": {},
   "outputs": [
    {
     "name": "stdout",
     "output_type": "stream",
     "text": [
      "CPU times: user 9.06 s, sys: 6.51 s, total: 15.6 s\n",
      "Wall time: 5min 14s\n"
     ]
    }
   ],
   "source": [
    "%%time\n",
    "X = s3_helpers.get_object_from_bucket(datasets_bucket, 'MNIST_X')"
   ]
  },
  {
   "cell_type": "code",
   "execution_count": 7,
   "metadata": {},
   "outputs": [],
   "source": [
    "from python_custom import s3_helpers\n",
    "datasets_bucket = s3_helpers.get_s3_bucket('sw-datasets')\n",
    "# s3_helpers.add_object_to_bucket(datasets_bucket, 'MNIST_X', X)\n",
    "# s3_helpers.add_object_to_bucket(datasets_bucket, 'MNIST_Y', Y)\n",
    "\n",
    "s3_helpers.get_object_from_bucket()\n",
    "Y s3_helpers.add_object_to_bucket(datasets_bucket, 'MNIST_Y', Y)"
   ]
  },
  {
   "cell_type": "markdown",
   "metadata": {},
   "source": [
    "# Momentum"
   ]
  },
  {
   "cell_type": "code",
   "execution_count": null,
   "metadata": {},
   "outputs": [],
   "source": [
    "def momentum_range(start_learning_rate, end_learning_rate, epochs):\n",
    "    update = (end_learning_rate / start_learning_rate) ** (1.0 / epochs)\n",
    "    learning_rates = [start_learning_rate * (update ** x) for x in range(epochs)]\n",
    "    return learning_rates"
   ]
  },
  {
   "cell_type": "code",
   "execution_count": null,
   "metadata": {
    "collapsed": true
   },
   "outputs": [],
   "source": []
  }
 ],
 "metadata": {
  "kernelspec": {
   "display_name": "Python 3",
   "language": "python",
   "name": "python3"
  },
  "language_info": {
   "codemirror_mode": {
    "name": "ipython",
    "version": 3
   },
   "file_extension": ".py",
   "mimetype": "text/x-python",
   "name": "python",
   "nbconvert_exporter": "python",
   "pygments_lexer": "ipython3",
   "version": "3.6.1"
  },
  "toc": {
   "colors": {
    "hover_highlight": "#DAA520",
    "running_highlight": "#FF0000",
    "selected_highlight": "#FFD700"
   },
   "moveMenuLeft": true,
   "nav_menu": {
    "height": "100px",
    "width": "252px"
   },
   "navigate_menu": true,
   "number_sections": true,
   "sideBar": true,
   "threshold": 4,
   "toc_cell": false,
   "toc_section_display": "block",
   "toc_window_display": false,
   "widenNotebook": false
  }
 },
 "nbformat": 4,
 "nbformat_minor": 2
}
