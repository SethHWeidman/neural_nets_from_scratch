{
 "cells": [
  {
   "cell_type": "markdown",
   "metadata": {},
   "source": [
    "**TODO:**\n",
    "\n",
    "* Clean up\n",
    "* Write helper function for initializing indices, training weights.\n",
    "* Do Batch Normalization!"
   ]
  },
  {
   "cell_type": "markdown",
   "metadata": {},
   "source": [
    "# Introduction"
   ]
  },
  {
   "cell_type": "code",
   "execution_count": 1,
   "metadata": {
    "collapsed": true,
    "heading_collapsed": true
   },
   "outputs": [],
   "source": [
    "# TODO"
   ]
  },
  {
   "cell_type": "markdown",
   "metadata": {},
   "source": [
    "# Imports"
   ]
  },
  {
   "cell_type": "code",
   "execution_count": 2,
   "metadata": {},
   "outputs": [],
   "source": [
    "import numpy as np\n",
    "np.set_printoptions(precision=2, threshold=2)\n",
    "import random\n",
    "random.seed(1)\n",
    "from neural_net import (NeuralNetwork, \n",
    "                        Layer, \n",
    "                        Linear)\n",
    "from activation_functions import sigmoid\n",
    "from helpers import (get_mnist_X_Y, \n",
    "                     momentum_range,\n",
    "                     _plot_learning_rate_decay)\n",
    "from python_custom.misc import (numpy_round, \n",
    "                                list_index_wraparound)\n",
    "%matplotlib inline"
   ]
  },
  {
   "cell_type": "markdown",
   "metadata": {},
   "source": [
    "Neural nets here are defined as a series of layers, each of which gets values from a prior layer and then feeds that information through an activation function into the next layer."
   ]
  },
  {
   "cell_type": "markdown",
   "metadata": {},
   "source": [
    "# Baseline neural net - TODO: write helper functions for this"
   ]
  },
  {
   "cell_type": "code",
   "execution_count": 3,
   "metadata": {
    "collapsed": true
   },
   "outputs": [],
   "source": [
    "X, Y = get_mnist_X_Y()"
   ]
  },
  {
   "cell_type": "code",
   "execution_count": 4,
   "metadata": {},
   "outputs": [],
   "source": [
    "nn_mnist = NeuralNetwork(\n",
    "    layers=[\n",
    "        Linear(n_in=784,\n",
    "               n_out=50,\n",
    "               activation_function=sigmoid, \n",
    "               random_seed=1),\n",
    "        Linear(n_in=50,\n",
    "               n_out=10,\n",
    "               activation_function=sigmoid, \n",
    "               random_seed=2)\n",
    "        ]\n",
    "    )"
   ]
  },
  {
   "cell_type": "code",
   "execution_count": 5,
   "metadata": {
    "collapsed": true
   },
   "outputs": [],
   "source": [
    "# TODO: make this a class method\n",
    "def neural_net_pass(net, x, y):\n",
    "    pred = net.forwardpass(x)\n",
    "    loss = net.loss(pred, y)\n",
    "    net.backpropogate(loss)\n",
    "    return pred"
   ]
  },
  {
   "cell_type": "code",
   "execution_count": 6,
   "metadata": {},
   "outputs": [],
   "source": [
    "from sklearn.model_selection import train_test_split\n",
    "\n",
    "train_prop = 0.9\n",
    "X_train, X_test, Y_train, Y_test = train_test_split(\n",
    "    X, Y, \n",
    "    test_size=1-train_prop, \n",
    "    random_state=4)"
   ]
  },
  {
   "cell_type": "code",
   "execution_count": 7,
   "metadata": {},
   "outputs": [],
   "source": [
    "data_size = X.shape[0]\n",
    "train_size = int(train_prop * data_size)\n",
    "indices = list(range(train_size))\n",
    "random.shuffle(indices)"
   ]
  },
  {
   "cell_type": "markdown",
   "metadata": {},
   "source": [
    "# Baseline"
   ]
  },
  {
   "cell_type": "code",
   "execution_count": 27,
   "metadata": {
    "collapsed": true
   },
   "outputs": [],
   "source": [
    "nn_mnist = NeuralNetwork(\n",
    "    layers=[\n",
    "        Linear(n_in=784,\n",
    "               n_out=50,\n",
    "               activation_function=sigmoid, \n",
    "               random_seed=1),\n",
    "        Linear(n_in=50,\n",
    "               n_out=10,\n",
    "               activation_function=sigmoid, \n",
    "               random_seed=2)\n",
    "        ]\n",
    "    )"
   ]
  },
  {
   "cell_type": "code",
   "execution_count": 28,
   "metadata": {
    "collapsed": true
   },
   "outputs": [],
   "source": [
    "for i in indices:\n",
    "    x = np.array(X_train[i], ndmin=2)\n",
    "    y = np.array(Y_train[i], ndmin=2)\n",
    "    neural_net_pass(nn_mnist, x, y)"
   ]
  },
  {
   "cell_type": "code",
   "execution_count": 29,
   "metadata": {},
   "outputs": [
    {
     "data": {
      "text/plain": [
       "0.90342857142857147"
      ]
     },
     "execution_count": 29,
     "metadata": {},
     "output_type": "execute_result"
    }
   ],
   "source": [
    "P = nn_mnist.forwardpass(X_test)\n",
    "preds = [np.argmax(x) for x in P]\n",
    "actuals = [np.argmax(x) for x in Y_test]\n",
    "\n",
    "accuracy = sum(np.array(preds) == np.array(actuals)) * 1.0 / len(preds)\n",
    "accuracy"
   ]
  },
  {
   "cell_type": "markdown",
   "metadata": {},
   "source": [
    "## 3 layer"
   ]
  },
  {
   "cell_type": "code",
   "execution_count": 38,
   "metadata": {
    "collapsed": true
   },
   "outputs": [],
   "source": [
    "nn_mnist_deep = NeuralNetwork(\n",
    "    layers=[\n",
    "        Linear(n_in=784,\n",
    "               n_out=100,\n",
    "               activation_function=sigmoid, \n",
    "               random_seed=1),\n",
    "        Linear(n_in=100,\n",
    "               n_out=25,\n",
    "               activation_function=sigmoid, \n",
    "               random_seed=2),\n",
    "        Linear(n_in=25,\n",
    "               n_out=10,\n",
    "               activation_function=sigmoid, \n",
    "               random_seed=3)\n",
    "        ]\n",
    "    )"
   ]
  },
  {
   "cell_type": "code",
   "execution_count": 39,
   "metadata": {},
   "outputs": [],
   "source": [
    "for i in indices:\n",
    "    x = np.array(X_train[i], ndmin=2)\n",
    "    y = np.array(Y_train[i], ndmin=2)\n",
    "    neural_net_pass(nn_mnist_deep, x, y)"
   ]
  },
  {
   "cell_type": "code",
   "execution_count": 40,
   "metadata": {},
   "outputs": [
    {
     "data": {
      "text/plain": [
       "0.88914285714285712"
      ]
     },
     "execution_count": 40,
     "metadata": {},
     "output_type": "execute_result"
    }
   ],
   "source": [
    "P = nn_mnist_deep.forwardpass(X_test)\n",
    "preds = [np.argmax(x) for x in P]\n",
    "actuals = [np.argmax(x) for x in Y_test]\n",
    "\n",
    "accuracy = sum(np.array(preds) == np.array(actuals)) * 1.0 / len(preds)\n",
    "accuracy"
   ]
  },
  {
   "cell_type": "markdown",
   "metadata": {},
   "source": [
    "## Test #2"
   ]
  },
  {
   "cell_type": "code",
   "execution_count": 44,
   "metadata": {
    "collapsed": true
   },
   "outputs": [],
   "source": [
    "nn_mnist_deep_2 = NeuralNetwork(\n",
    "    layers=[\n",
    "        Linear(n_in=784,\n",
    "               n_out=150,\n",
    "               activation_function=sigmoid, \n",
    "               random_seed=1),\n",
    "        Linear(n_in=150,\n",
    "               n_out=50,\n",
    "               activation_function=sigmoid, \n",
    "               random_seed=2),\n",
    "        Linear(n_in=50,\n",
    "               n_out=10,\n",
    "               activation_function=sigmoid, \n",
    "               random_seed=3)\n",
    "        ]\n",
    "    )"
   ]
  },
  {
   "cell_type": "code",
   "execution_count": 45,
   "metadata": {
    "collapsed": true
   },
   "outputs": [],
   "source": [
    "for i in indices:\n",
    "    x = np.array(X_train[i], ndmin=2)\n",
    "    y = np.array(Y_train[i], ndmin=2)\n",
    "    neural_net_pass(nn_mnist_deep_2, x, y)"
   ]
  },
  {
   "cell_type": "code",
   "execution_count": 46,
   "metadata": {},
   "outputs": [
    {
     "data": {
      "text/plain": [
       "0.87514285714285711"
      ]
     },
     "execution_count": 46,
     "metadata": {},
     "output_type": "execute_result"
    }
   ],
   "source": [
    "P = nn_mnist_deep_2.forwardpass(X_test)\n",
    "preds = [np.argmax(x) for x in P]\n",
    "actuals = [np.argmax(x) for x in Y_test]\n",
    "\n",
    "accuracy = sum(np.array(preds) == np.array(actuals)) * 1.0 / len(preds)\n",
    "accuracy"
   ]
  },
  {
   "cell_type": "markdown",
   "metadata": {},
   "source": [
    "Accuracy goes does with additional weights."
   ]
  },
  {
   "cell_type": "markdown",
   "metadata": {
    "heading_collapsed": true
   },
   "source": [
    "# Momentum"
   ]
  },
  {
   "cell_type": "code",
   "execution_count": null,
   "metadata": {
    "hidden": true
   },
   "outputs": [],
   "source": [
    "_plot_learning_rate_decay(1, 0.01, train_size)"
   ]
  },
  {
   "cell_type": "code",
   "execution_count": null,
   "metadata": {
    "hidden": true
   },
   "outputs": [],
   "source": [
    "start_learning_rate = 2\n",
    "end_learning_rate = 0.5\n",
    "learning_rates = momentum_range(start_learning_rate, end_learning_rate, train_size)"
   ]
  },
  {
   "cell_type": "code",
   "execution_count": null,
   "metadata": {
    "hidden": true
   },
   "outputs": [],
   "source": [
    "nn_mnist = NeuralNetwork(\n",
    "    layers=[\n",
    "        Linear(n_in=784,\n",
    "               n_out=50,\n",
    "               activation_function=sigmoid, \n",
    "               random_seed=1, \n",
    "               learning_rates=learning_rates),\n",
    "        Linear(n_in=50,\n",
    "               n_out=10,\n",
    "               activation_function=sigmoid, \n",
    "               random_seed=2, \n",
    "               learning_rates=learning_rates)\n",
    "        ]\n",
    "    )"
   ]
  },
  {
   "cell_type": "code",
   "execution_count": null,
   "metadata": {
    "hidden": true
   },
   "outputs": [],
   "source": [
    "for i in indices:\n",
    "    x = np.array(X_train[i], ndmin=2)\n",
    "    y = np.array(Y_train[i], ndmin=2)\n",
    "    neural_net_pass(nn_mnist, x, y)"
   ]
  },
  {
   "cell_type": "code",
   "execution_count": null,
   "metadata": {
    "collapsed": true,
    "hidden": true
   },
   "outputs": [],
   "source": [
    "P = nn_mnist.forwardpass(X_test)\n",
    "preds = [np.argmax(x) for x in P]\n",
    "actuals = [np.argmax(x) for x in Y_test]"
   ]
  },
  {
   "cell_type": "code",
   "execution_count": null,
   "metadata": {
    "hidden": true
   },
   "outputs": [],
   "source": [
    "accuracy = sum(np.array(preds) == np.array(actuals)) * 1.0 / len(preds)\n",
    "numpy_round(accuracy, 3)"
   ]
  },
  {
   "cell_type": "markdown",
   "metadata": {
    "hidden": true
   },
   "source": [
    "## Test momentum factors"
   ]
  },
  {
   "cell_type": "code",
   "execution_count": null,
   "metadata": {
    "collapsed": true,
    "hidden": true
   },
   "outputs": [],
   "source": [
    "def test_momentum_factor(factor):\n",
    "    start_learning_rate = 1.0 * factor \n",
    "    end_learning_rate = 1.0 / factor\n",
    "    learning_rates = momentum_range(start_learning_rate, end_learning_rate, train_size)\n",
    "    \n",
    "    nn_mnist = NeuralNetwork(\n",
    "    layers=[\n",
    "        Linear(n_in=784,\n",
    "               n_out=50,\n",
    "               activation_function=sigmoid, \n",
    "               random_seed=1, \n",
    "               learning_rates=learning_rates),\n",
    "        Linear(n_in=50,\n",
    "               n_out=10,\n",
    "               activation_function=sigmoid, \n",
    "               random_seed=2, \n",
    "               learning_rates=learning_rates)\n",
    "        ]\n",
    "    )\n",
    "    \n",
    "    for i in indices:\n",
    "        x = np.array(X_train[i], ndmin=2)\n",
    "        y = np.array(Y_train[i], ndmin=2)\n",
    "        neural_net_pass(nn_mnist, x, y)\n",
    "        \n",
    "    P = nn_mnist.forwardpass(X_test)\n",
    "    preds = [np.argmax(x) for x in P]\n",
    "    actuals = [np.argmax(x) for x in Y_test]\n",
    "    \n",
    "    accuracy = sum(np.array(preds) == np.array(actuals)) * 1.0 / len(preds)\n",
    "    return numpy_round(accuracy, 3)"
   ]
  },
  {
   "cell_type": "code",
   "execution_count": null,
   "metadata": {
    "collapsed": true,
    "hidden": true
   },
   "outputs": [],
   "source": [
    "factors = np.arange(1, 5, 0.1)\n",
    "accuracies = []\n",
    "for factor in factors:\n",
    "    print(factor)\n",
    "    accuracy = test_momentum_factor(factor)\n",
    "    accuracies.append(accuracy)\n",
    "    print(accuracy)    "
   ]
  },
  {
   "cell_type": "markdown",
   "metadata": {
    "hidden": true
   },
   "source": [
    "## Explore"
   ]
  },
  {
   "cell_type": "code",
   "execution_count": null,
   "metadata": {
    "hidden": true
   },
   "outputs": [],
   "source": [
    "# accuracy_df = pd.DataFrame({'factors': factors, 'accuracies': accuracies}).sort_values('accuracies', ascending=False)"
   ]
  },
  {
   "cell_type": "code",
   "execution_count": null,
   "metadata": {
    "collapsed": true,
    "hidden": true
   },
   "outputs": [],
   "source": [
    "# from python_custom import s3_helpers\n",
    "# nn_bucket = s3_helpers.get_s3_bucket('neural-net-experiments')\n",
    "# s3_helpers.add_object_to_bucket(nn_bucket, 'mnist_accuracies_momentum', accuracy_df)"
   ]
  },
  {
   "cell_type": "markdown",
   "metadata": {},
   "source": [
    "# Weight initializaton"
   ]
  },
  {
   "cell_type": "code",
   "execution_count": null,
   "metadata": {
    "collapsed": true
   },
   "outputs": [],
   "source": [
    "learning_rates = momentum_range(1.0 * 2.2, 1.0 / 2.2, train_size)\n",
    "nn_mnist = NeuralNetwork(\n",
    "    layers=[\n",
    "        Linear(n_in=784,\n",
    "               n_out=50,\n",
    "               activation_function=sigmoid, \n",
    "               random_seed=1, \n",
    "               learning_rates=learning_rates,\n",
    "               weights_scale='square-root'),\n",
    "        Linear(n_in=50,\n",
    "               n_out=10,\n",
    "               activation_function=sigmoid, \n",
    "               random_seed=2, \n",
    "               learning_rates=learning_rates,\n",
    "               weights_scale='square-root')\n",
    "        ]\n",
    "    )"
   ]
  },
  {
   "cell_type": "code",
   "execution_count": null,
   "metadata": {
    "collapsed": true
   },
   "outputs": [],
   "source": [
    "for i in indices:\n",
    "    x = np.array(X_train[i], ndmin=2)\n",
    "    y = np.array(Y_train[i], ndmin=2)\n",
    "    neural_net_pass(nn_mnist, x, y)"
   ]
  },
  {
   "cell_type": "code",
   "execution_count": null,
   "metadata": {},
   "outputs": [],
   "source": [
    "P = nn_mnist.forwardpass(X_test)\n",
    "preds = [np.argmax(x) for x in P]\n",
    "actuals = [np.argmax(x) for x in Y_test]\n",
    "\n",
    "accuracy = sum(np.array(preds) == np.array(actuals)) * 1.0 / len(preds)\n",
    "accuracy"
   ]
  },
  {
   "cell_type": "code",
   "execution_count": null,
   "metadata": {
    "collapsed": true
   },
   "outputs": [],
   "source": [
    "def test_weight_scales(weight_scale):\n",
    "    learning_rates = momentum_range(1.0 * 2.2, 1.0 / 2.2, train_size)\n",
    "    nn_mnist = NeuralNetwork(\n",
    "        layers=[\n",
    "            Linear(n_in=784,\n",
    "                   n_out=50,\n",
    "                   activation_function=sigmoid, \n",
    "                   random_seed=1, \n",
    "                   learning_rates=learning_rates,\n",
    "                   weights_scale=weight_scale),\n",
    "            Linear(n_in=50,\n",
    "                   n_out=10,\n",
    "                   activation_function=sigmoid, \n",
    "                   random_seed=2, \n",
    "                   learning_rates=learning_rates,\n",
    "                   weights_scale=(50.0 / 784.0) * weight_scale)\n",
    "            ]\n",
    "        )\n",
    "\n",
    "    for i in indices:\n",
    "        x = np.array(X_train[i], ndmin=2)\n",
    "        y = np.array(Y_train[i], ndmin=2)\n",
    "        neural_net_pass(nn_mnist, x, y)\n",
    "        \n",
    "    P = nn_mnist.forwardpass(X_test)\n",
    "    preds = [np.argmax(x) for x in P]\n",
    "    actuals = [np.argmax(x) for x in Y_test]\n",
    "\n",
    "    accuracy = sum(np.array(preds) == np.array(actuals)) * 1.0 / len(preds)\n",
    "    return accuracy"
   ]
  },
  {
   "cell_type": "code",
   "execution_count": null,
   "metadata": {},
   "outputs": [],
   "source": [
    "weight_scales = [2.0 ** x for x in np.arange(0, -20, -1)]\n",
    "accuracies = []\n",
    "for scale in weight_scales:\n",
    "    print(scale)\n",
    "    accuracy = test_weight_scales(scale)\n",
    "    accuracies.append(accuracy)\n",
    "    print(accuracy)"
   ]
  },
  {
   "cell_type": "code",
   "execution_count": null,
   "metadata": {},
   "outputs": [],
   "source": [
    "1.0 / 784.0"
   ]
  },
  {
   "cell_type": "code",
   "execution_count": null,
   "metadata": {},
   "outputs": [],
   "source": [
    "plt.plot(weight_scales, accuracies)\n",
    "plt.semilogx(basex=2)"
   ]
  },
  {
   "cell_type": "code",
   "execution_count": null,
   "metadata": {},
   "outputs": [],
   "source": [
    "# scales_df = pd.DataFrame({'scales': weight_scales, 'accuracies': accuracies}).sort_values('accuracies', ascending=False)\n",
    "from python_custom import s3_helpers\n",
    "nn_bucket = s3_helpers.get_s3_bucket('neural-net-experiments')\n",
    "# s3_helpers.add_object_to_bucket(nn_bucket, 'mnist_accuracies_weight_scales', scales_df)"
   ]
  },
  {
   "cell_type": "markdown",
   "metadata": {},
   "source": [
    "# Truncated Normal Distribution "
   ]
  },
  {
   "cell_type": "code",
   "execution_count": 10,
   "metadata": {},
   "outputs": [],
   "source": [
    "learning_rates = momentum_range(1.0 * 2.2, 1.0 / 2.2, train_size)\n",
    "nn_mnist = NeuralNetwork(\n",
    "    layers=[\n",
    "        Linear(n_in=784,\n",
    "               n_out=50,\n",
    "               activation_function=sigmoid, \n",
    "               random_seed=1, \n",
    "               learning_rates=learning_rates,\n",
    "               weights_scale=2 ** -13, \n",
    "               weights_shape=\"truncated\"),\n",
    "        Linear(n_in=50,\n",
    "               n_out=10,\n",
    "               activation_function=sigmoid, \n",
    "               random_seed=2, \n",
    "               learning_rates=learning_rates,\n",
    "               weights_scale=2 ** -13,\n",
    "               weights_shape=\"truncated\")\n",
    "        ]\n",
    "    )"
   ]
  },
  {
   "cell_type": "code",
   "execution_count": 11,
   "metadata": {},
   "outputs": [
    {
     "data": {
      "text/plain": [
       "0.93442857142857139"
      ]
     },
     "execution_count": 11,
     "metadata": {},
     "output_type": "execute_result"
    }
   ],
   "source": [
    "for i in indices:\n",
    "    x = np.array(X_train[i], ndmin=2)\n",
    "    y = np.array(Y_train[i], ndmin=2)\n",
    "    neural_net_pass(nn_mnist, x, y)\n",
    "\n",
    "P = nn_mnist.forwardpass(X_test)\n",
    "preds = [np.argmax(x) for x in P]\n",
    "actuals = [np.argmax(x) for x in Y_test]\n",
    "\n",
    "accuracy = sum(np.array(preds) == np.array(actuals)) * 1.0 / len(preds)\n",
    "accuracy"
   ]
  },
  {
   "cell_type": "code",
   "execution_count": 12,
   "metadata": {
    "collapsed": true
   },
   "outputs": [],
   "source": [
    "def test_truncation_normal(truncation):\n",
    "    learning_rates = momentum_range(1.0 * 2.2, 1.0 / 2.2, train_size)\n",
    "    nn_mnist = NeuralNetwork(\n",
    "        layers=[\n",
    "            Linear(n_in=784,\n",
    "                   n_out=50,\n",
    "                   activation_function=sigmoid, \n",
    "                   random_seed=1, \n",
    "                   learning_rates=learning_rates,\n",
    "                   weights_scale=2 ** -13, \n",
    "                   weights_shape=\"truncated\", \n",
    "                   truncation=truncation),\n",
    "            Linear(n_in=50,\n",
    "                   n_out=10,\n",
    "                   activation_function=sigmoid, \n",
    "                   random_seed=2, \n",
    "                   learning_rates=learning_rates,\n",
    "                   weights_scale=2 ** -13,\n",
    "                   weights_shape=\"truncated\", \n",
    "                   truncation=truncation)\n",
    "            ]\n",
    "        )\n",
    "    \n",
    "    for i in indices:\n",
    "        x = np.array(X_train[i], ndmin=2)\n",
    "        y = np.array(Y_train[i], ndmin=2)\n",
    "        neural_net_pass(nn_mnist, x, y)\n",
    "\n",
    "    P = nn_mnist.forwardpass(X_test)\n",
    "    preds = [np.argmax(x) for x in P]\n",
    "    actuals = [np.argmax(x) for x in Y_test]\n",
    "\n",
    "    accuracy = sum(np.array(preds) == np.array(actuals)) * 1.0 / len(preds)\n",
    "    return accuracy"
   ]
  },
  {
   "cell_type": "code",
   "execution_count": 13,
   "metadata": {},
   "outputs": [
    {
     "name": "stdout",
     "output_type": "stream",
     "text": [
      "1.0\n",
      "0.937571428571\n",
      "1.1\n",
      "0.926857142857\n",
      "1.2\n",
      "0.932285714286\n",
      "1.3\n",
      "0.932857142857\n",
      "1.4\n",
      "0.925428571429\n",
      "1.5\n",
      "0.932571428571\n",
      "1.6\n",
      "0.934\n",
      "1.7\n",
      "0.936142857143\n",
      "1.8\n",
      "0.934571428571\n",
      "1.9\n",
      "0.925857142857\n",
      "2.0\n",
      "0.936142857143\n",
      "2.1\n",
      "0.928428571429\n",
      "2.2\n",
      "0.924571428571\n",
      "2.3\n",
      "0.928571428571\n",
      "2.4\n",
      "0.926714285714\n",
      "2.5\n",
      "0.928142857143\n",
      "2.6\n",
      "0.933857142857\n",
      "2.7\n",
      "0.929428571429\n",
      "2.8\n",
      "0.927142857143\n",
      "2.9\n",
      "0.934142857143\n"
     ]
    }
   ],
   "source": [
    "truncations = np.arange(1, 3, 0.1)\n",
    "accuracies = []\n",
    "for truncation in truncations:\n",
    "    print(truncation)\n",
    "    accuracy = test_truncation_normal(truncation)\n",
    "    accuracies.append(accuracy)\n",
    "    print(accuracy)"
   ]
  },
  {
   "cell_type": "code",
   "execution_count": 15,
   "metadata": {},
   "outputs": [
    {
     "data": {
      "text/plain": [
       "<matplotlib.collections.PathCollection at 0x1056acb70>"
      ]
     },
     "execution_count": 15,
     "metadata": {},
     "output_type": "execute_result"
    },
    {
     "data": {
      "image/png": "[encoded data removed]",
      "text/plain": [
       "<matplotlib.figure.Figure at 0x104691278>"
      ]
     },
     "metadata": {},
     "output_type": "display_data"
    }
   ],
   "source": [
    "plt.scatter(truncations, accuracies)"
   ]
  },
  {
   "cell_type": "code",
   "execution_count": 18,
   "metadata": {
    "collapsed": true
   },
   "outputs": [],
   "source": [
    "from python_custom import s3_helpers\n",
    "nn_bucket = s3_helpers.get_s3_bucket('neural-net-experiments')"
   ]
  },
  {
   "cell_type": "code",
   "execution_count": 20,
   "metadata": {},
   "outputs": [
    {
     "data": {
      "text/html": [
       "<div>\n",
       "<style>\n",
       "    .dataframe thead tr:only-child th {\n",
       "        text-align: right;\n",
       "    }\n",
       "\n",
       "    .dataframe thead th {\n",
       "        text-align: left;\n",
       "    }\n",
       "\n",
       "    .dataframe tbody tr th {\n",
       "        vertical-align: top;\n",
       "    }\n",
       "</style>\n",
       "<table border=\"1\" class=\"dataframe\">\n",
       "  <thead>\n",
       "    <tr style=\"text-align: right;\">\n",
       "      <th></th>\n",
       "      <th>accuracies</th>\n",
       "      <th>scales</th>\n",
       "    </tr>\n",
       "  </thead>\n",
       "  <tbody>\n",
       "    <tr>\n",
       "      <th>13</th>\n",
       "      <td>0.936286</td>\n",
       "      <td>0.000122</td>\n",
       "    </tr>\n",
       "    <tr>\n",
       "      <th>8</th>\n",
       "      <td>0.935429</td>\n",
       "      <td>0.003906</td>\n",
       "    </tr>\n",
       "    <tr>\n",
       "      <th>19</th>\n",
       "      <td>0.934429</td>\n",
       "      <td>0.000002</td>\n",
       "    </tr>\n",
       "    <tr>\n",
       "      <th>18</th>\n",
       "      <td>0.934429</td>\n",
       "      <td>0.000004</td>\n",
       "    </tr>\n",
       "    <tr>\n",
       "      <th>7</th>\n",
       "      <td>0.934429</td>\n",
       "      <td>0.007812</td>\n",
       "    </tr>\n",
       "    <tr>\n",
       "      <th>15</th>\n",
       "      <td>0.934000</td>\n",
       "      <td>0.000031</td>\n",
       "    </tr>\n",
       "    <tr>\n",
       "      <th>14</th>\n",
       "      <td>0.932571</td>\n",
       "      <td>0.000061</td>\n",
       "    </tr>\n",
       "    <tr>\n",
       "      <th>2</th>\n",
       "      <td>0.931857</td>\n",
       "      <td>0.250000</td>\n",
       "    </tr>\n",
       "    <tr>\n",
       "      <th>6</th>\n",
       "      <td>0.931571</td>\n",
       "      <td>0.015625</td>\n",
       "    </tr>\n",
       "    <tr>\n",
       "      <th>3</th>\n",
       "      <td>0.931143</td>\n",
       "      <td>0.125000</td>\n",
       "    </tr>\n",
       "    <tr>\n",
       "      <th>17</th>\n",
       "      <td>0.930429</td>\n",
       "      <td>0.000008</td>\n",
       "    </tr>\n",
       "    <tr>\n",
       "      <th>5</th>\n",
       "      <td>0.929714</td>\n",
       "      <td>0.031250</td>\n",
       "    </tr>\n",
       "    <tr>\n",
       "      <th>10</th>\n",
       "      <td>0.929143</td>\n",
       "      <td>0.000977</td>\n",
       "    </tr>\n",
       "    <tr>\n",
       "      <th>11</th>\n",
       "      <td>0.928286</td>\n",
       "      <td>0.000488</td>\n",
       "    </tr>\n",
       "    <tr>\n",
       "      <th>16</th>\n",
       "      <td>0.927571</td>\n",
       "      <td>0.000015</td>\n",
       "    </tr>\n",
       "    <tr>\n",
       "      <th>9</th>\n",
       "      <td>0.927000</td>\n",
       "      <td>0.001953</td>\n",
       "    </tr>\n",
       "    <tr>\n",
       "      <th>4</th>\n",
       "      <td>0.926714</td>\n",
       "      <td>0.062500</td>\n",
       "    </tr>\n",
       "    <tr>\n",
       "      <th>12</th>\n",
       "      <td>0.925429</td>\n",
       "      <td>0.000244</td>\n",
       "    </tr>\n",
       "    <tr>\n",
       "      <th>1</th>\n",
       "      <td>0.923714</td>\n",
       "      <td>0.500000</td>\n",
       "    </tr>\n",
       "    <tr>\n",
       "      <th>0</th>\n",
       "      <td>0.914571</td>\n",
       "      <td>1.000000</td>\n",
       "    </tr>\n",
       "  </tbody>\n",
       "</table>\n",
       "</div>"
      ],
      "text/plain": [
       "    accuracies    scales\n",
       "13    0.936286  0.000122\n",
       "8     0.935429  0.003906\n",
       "19    0.934429  0.000002\n",
       "18    0.934429  0.000004\n",
       "7     0.934429  0.007812\n",
       "15    0.934000  0.000031\n",
       "14    0.932571  0.000061\n",
       "2     0.931857  0.250000\n",
       "6     0.931571  0.015625\n",
       "3     0.931143  0.125000\n",
       "17    0.930429  0.000008\n",
       "5     0.929714  0.031250\n",
       "10    0.929143  0.000977\n",
       "11    0.928286  0.000488\n",
       "16    0.927571  0.000015\n",
       "9     0.927000  0.001953\n",
       "4     0.926714  0.062500\n",
       "12    0.925429  0.000244\n",
       "1     0.923714  0.500000\n",
       "0     0.914571  1.000000"
      ]
     },
     "execution_count": 20,
     "metadata": {},
     "output_type": "execute_result"
    }
   ],
   "source": [
    "s3_helpers.get_object_from_bucket(nn_bucket, 'mnist_accuracies_weight_scales')"
   ]
  },
  {
   "cell_type": "markdown",
   "metadata": {
    "heading_collapsed": true
   },
   "source": [
    "# Testing"
   ]
  },
  {
   "cell_type": "code",
   "execution_count": null,
   "metadata": {
    "collapsed": true,
    "hidden": true
   },
   "outputs": [],
   "source": [
    "def set_learning_rate(learning_rates, iteration):\n",
    "    if len(learning_rates) == 0:\n",
    "        current_learning_rate = 1\n",
    "    else: \n",
    "        current_learning_rate = list_index_wraparound(learning_rates, \n",
    "                                                      iteration)\n",
    "        print(\"In this iteration of backprop, the learning rate is \", \n",
    "              current_learning_rate)\n",
    "    return current_learning_rate"
   ]
  },
  {
   "cell_type": "code",
   "execution_count": null,
   "metadata": {
    "hidden": true
   },
   "outputs": [],
   "source": [
    "learning_rates = [0.2, 0.1]\n",
    "iteration = 0\n",
    "set_learning_rate(learning_rates, iteration)"
   ]
  },
  {
   "cell_type": "code",
   "execution_count": null,
   "metadata": {
    "collapsed": true,
    "hidden": true
   },
   "outputs": [],
   "source": [
    "P = nn_mnist.forwardpass(X_test)\n",
    "preds = [np.argmax(x) for x in P]\n",
    "actuals = [np.argmax(x) for x in Y_test]"
   ]
  },
  {
   "cell_type": "code",
   "execution_count": null,
   "metadata": {
    "collapsed": true,
    "hidden": true
   },
   "outputs": [],
   "source": []
  }
 ],
 "metadata": {
  "kernelspec": {
   "display_name": "Python 3",
   "language": "python",
   "name": "python3"
  },
  "language_info": {
   "codemirror_mode": {
    "name": "ipython",
    "version": 3
   },
   "file_extension": ".py",
   "mimetype": "text/x-python",
   "name": "python",
   "nbconvert_exporter": "python",
   "pygments_lexer": "ipython3",
   "version": "3.6.1"
  },
  "toc": {
   "colors": {
    "hover_highlight": "#DAA520",
    "running_highlight": "#FF0000",
    "selected_highlight": "#FFD700"
   },
   "moveMenuLeft": true,
   "nav_menu": {
    "height": "100px",
    "width": "252px"
   },
   "navigate_menu": true,
   "number_sections": true,
   "sideBar": true,
   "threshold": 4,
   "toc_cell": false,
   "toc_section_display": "block",
   "toc_window_display": false,
   "widenNotebook": false
  }
 },
 "nbformat": 4,
 "nbformat_minor": 2
}
